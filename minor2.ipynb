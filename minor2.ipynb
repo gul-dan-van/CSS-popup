{
  "nbformat": 4,
  "nbformat_minor": 0,
  "metadata": {
    "colab": {
      "name": "minor2.ipynb",
      "provenance": [],
      "collapsed_sections": [],
      "authorship_tag": "ABX9TyOX6M0pjCWo9z6dThKBi+Yp",
      "include_colab_link": true
    },
    "kernelspec": {
      "name": "python3",
      "display_name": "Python 3"
    },
    "language_info": {
      "name": "python"
    }
  },
  "cells": [
    {
      "cell_type": "markdown",
      "metadata": {
        "id": "view-in-github",
        "colab_type": "text"
      },
      "source": [
        "<a href=\"https://colab.research.google.com/github/gul-dan-van/CSS-popup/blob/main/minor2.ipynb\" target=\"_parent\"><img src=\"https://colab.research.google.com/assets/colab-badge.svg\" alt=\"Open In Colab\"/></a>"
      ]
    },
    {
      "cell_type": "code",
      "metadata": {
        "id": "7PbOpMbqxMc3"
      },
      "source": [
        "!pip install -q kaggle"
      ],
      "execution_count": 4,
      "outputs": []
    },
    {
      "cell_type": "code",
      "metadata": {
        "id": "tu91frgAxesn"
      },
      "source": [
        "from google.colab import files\n",
        "files.upload()"
      ],
      "execution_count": null,
      "outputs": []
    },
    {
      "cell_type": "code",
      "metadata": {
        "id": "VEXro7ttxjRe"
      },
      "source": [
        "! mkdir ~/.kaggle"
      ],
      "execution_count": 6,
      "outputs": []
    },
    {
      "cell_type": "code",
      "metadata": {
        "id": "Mxgt6nWRxt-9"
      },
      "source": [
        "! cp kaggle.json ~/.kaggle/"
      ],
      "execution_count": 7,
      "outputs": []
    },
    {
      "cell_type": "code",
      "metadata": {
        "id": "qYojMxy7x4z0"
      },
      "source": [
        "! chmod 600 ~/.kaggle/kaggle.json "
      ],
      "execution_count": 8,
      "outputs": []
    },
    {
      "cell_type": "code",
      "metadata": {
        "id": "GnOTKhWTx_Rd"
      },
      "source": [
        "! kaggle datasets list"
      ],
      "execution_count": null,
      "outputs": []
    },
    {
      "cell_type": "code",
      "metadata": {
        "id": "zO3xTaMuyEru"
      },
      "source": [
        "!kaggle competitions download -c dogs-vs-cats"
      ],
      "execution_count": null,
      "outputs": []
    },
    {
      "cell_type": "code",
      "metadata": {
        "id": "dZ2wkRomybKl"
      },
      "source": [
        "!unzip train.zip"
      ],
      "execution_count": null,
      "outputs": []
    },
    {
      "cell_type": "code",
      "metadata": {
        "id": "yii0-OeAynjL"
      },
      "source": [
        "!unzip test1.zip"
      ],
      "execution_count": null,
      "outputs": []
    },
    {
      "cell_type": "code",
      "metadata": {
        "id": "PreYp1caaw0y"
      },
      "source": [
        "import os\n",
        "import numpy as np\n",
        "from random import shuffle\n",
        "import cv2\n",
        "from tqdm import tqdm\n",
        "\n",
        "\n",
        "TRAIN_DIR=\"train\"\n",
        "TEST_DIR=\"test1\"\n",
        "IMG_SIZE=50\n",
        "LR=1e-3\n",
        "\n",
        "MODEL_NAME=f\"dogsvscats-{LR}-{'2conv-basic'}.model\""
      ],
      "execution_count": 14,
      "outputs": []
    },
    {
      "cell_type": "code",
      "metadata": {
        "id": "T2TQRqwJ7qUt"
      },
      "source": [
        "def label_img(img):\n",
        "  label=img.split('.')[0]\n",
        "  if label=='dog':return [0,1]\n",
        "  else:return [1,0]"
      ],
      "execution_count": 15,
      "outputs": []
    },
    {
      "cell_type": "code",
      "metadata": {
        "id": "ki5uCCiYLaSq"
      },
      "source": [
        "def create_train_data():\n",
        "  training_data=[]\n",
        "  for img in os.listdir(TRAIN_DIR):\n",
        "    label=label_img(img)\n",
        "    path=TRAIN_DIR+'/'+img\n",
        "    img=cv2.resize(cv2.imread(path,cv2.IMREAD_GRAYSCALE),(IMG_SIZE,IMG_SIZE))\n",
        "    training_data.append( [np.array(img), np.array(label)] )\n",
        "  shuffle(training_data)\n",
        "  np.save('train_data.npy',training_data)\n",
        "  return training_data"
      ],
      "execution_count": 16,
      "outputs": []
    },
    {
      "cell_type": "code",
      "metadata": {
        "id": "zJ8LlXPGOJuS"
      },
      "source": [
        "def create_test_data():\n",
        "  testing_data=[]\n",
        "  for img in os.listdir(TEST_DIR):\n",
        "    label=label_img(img)\n",
        "    path=TEST_DIR+'/'+img\n",
        "    IMG_NUM=img.split('.')[0]\n",
        "    img=cv2.resize(cv2.imread(path,cv2.IMREAD_GRAYSCALE),(IMG_SIZE,IMG_SIZE))\n",
        "    testing_data.append( [np.array(img), IMG_NUM] )\n",
        "  shuffle(testing_data)\n",
        "  np.save('test_data.npy',testing_data)\n",
        "  return testing_data"
      ],
      "execution_count": 17,
      "outputs": []
    },
    {
      "cell_type": "code",
      "metadata": {
        "id": "YtqUQKR6OwuP"
      },
      "source": [
        "if 'train_data.npy' in os.listdir():\n",
        "  train_data=np.load('train_data.npy')\n",
        "else:\n",
        "  train_data=create_train_data()"
      ],
      "execution_count": null,
      "outputs": []
    },
    {
      "cell_type": "code",
      "metadata": {
        "id": "54TxB5IeQWmz"
      },
      "source": [
        "!pip install tflearn"
      ],
      "execution_count": null,
      "outputs": []
    },
    {
      "cell_type": "code",
      "metadata": {
        "id": "rrF9pRKDPKB_"
      },
      "source": [
        "import tflearn\n",
        "from tflearn.layers.conv import conv_2d, max_pool_2d\n",
        "from tflearn.layers.core import input_data, dropout, fully_connected\n",
        "from tflearn.layers.estimator import regression\n",
        "import tflearn.datasets.mnist as mnist\n",
        "\n",
        "convnet = input_data(shape=[None, IMG_SIZE, IMG_SIZE, 1], name='input')\n",
        "\n",
        "convnet = conv_2d(convnet, 32, 2, activation='relu')\n",
        "convnet = max_pool_2d(convnet, 2)\n",
        "\n",
        "convnet = conv_2d(convnet, 64, 2, activation='relu')\n",
        "convnet = max_pool_2d(convnet, 2)\n",
        "\n",
        "convnet = fully_connected(convnet, 1024, activation='relu')\n",
        "convnet = dropout(convnet, 0.8)\n",
        "\n",
        "convnet = fully_connected(convnet, 2, activation='softmax')\n",
        "convnet = regression(convnet, optimizer='adam', learning_rate=LR, loss='categorical_crossentropy', name='targets')\n",
        "\n",
        "model = tflearn.DNN(convnet, tensorboard_dir=\"log\")"
      ],
      "execution_count": 45,
      "outputs": []
    },
    {
      "cell_type": "code",
      "metadata": {
        "id": "oE_0wUtdQRJY"
      },
      "source": [
        "if os.path.exists(f\"{MODEL_NAME}.meta\"):\n",
        "  model.load(MODEL_NAME)"
      ],
      "execution_count": 38,
      "outputs": []
    },
    {
      "cell_type": "code",
      "metadata": {
        "id": "J-jYJyAgSpLo"
      },
      "source": [
        "train=train_data[:1000]\n",
        "test=train_data[1000:]"
      ],
      "execution_count": 22,
      "outputs": []
    },
    {
      "cell_type": "code",
      "metadata": {
        "id": "cvV1XAEiSwMc"
      },
      "source": [
        "X=np.array([x[0]for x in train]).reshape(-1, IMG_SIZE, IMG_SIZE, 1)\n",
        "Y=[x[1]for x in train]\n",
        "\n",
        "test_x=np.array([x[0]for x in test]).reshape(-1, IMG_SIZE, IMG_SIZE, 1)\n",
        "test_y=[x[1]for x in test]"
      ],
      "execution_count": 23,
      "outputs": []
    },
    {
      "cell_type": "code",
      "metadata": {
        "id": "qmDVcjljTRoH"
      },
      "source": [
        "model.fit({'input': X}, {'targets': Y}, n_epoch=10, validation_set=({'input': test_x}, {'targets': test_y}), \n",
        "    snapshot_step=500, show_metric=True, run_id=MODEL_NAME)"
      ],
      "execution_count": null,
      "outputs": []
    },
    {
      "cell_type": "code",
      "metadata": {
        "id": "HQgWOjJuVfhX"
      },
      "source": [
        "if 'test_data.npy' in os.listdir():\n",
        "  final_test=np.load('test_data.npy')\n",
        "else:\n",
        "  final_test=create_test_data()"
      ],
      "execution_count": null,
      "outputs": []
    },
    {
      "cell_type": "code",
      "metadata": {
        "colab": {
          "base_uri": "https://localhost:8080/"
        },
        "id": "M20ZDEQSi-LO",
        "outputId": "388a6b52-4a96-4bd9-f56b-decd52db0954"
      },
      "source": [
        "img_data=cv2.resize(cv2.imread(\"test1/42.jpg\",cv2.IMREAD_GRAYSCALE),(IMG_SIZE,IMG_SIZE))\n",
        "# img_data=test_data[0]\n",
        "data=img_data.reshape(IMG_SIZE,IMG_SIZE,1)\n",
        "print(model.predict([data])[0][0])"
      ],
      "execution_count": 36,
      "outputs": [
        {
          "output_type": "stream",
          "text": [
            "0.5951243\n"
          ],
          "name": "stdout"
        }
      ]
    },
    {
      "cell_type": "code",
      "metadata": {
        "id": "hTsz4AeqkCZg"
      },
      "source": [
        "with open('test_results.csv','w') as f:\n",
        "  f.write('id,label\\n')\n",
        "  s=0\n",
        "  n=0\n",
        "  for data in final_test:\n",
        "    img_num=data[1]\n",
        "    img_data=data[0]\n",
        "\n",
        "    img_data=img_data.reshape(IMG_SIZE,IMG_SIZE,1)\n",
        "    result=model.predict([img_data])[0]\n",
        "    \n",
        "    if result[0]==0:\n",
        "      f.write(f'{img_num}, dog\\n')\n",
        "    else:\n",
        "      f.write(f'{img_num}, cat\\n')"
      ],
      "execution_count": null,
      "outputs": []
    },
    {
      "cell_type": "code",
      "metadata": {
        "id": "CFtk5344lnFP"
      },
      "source": [
        ""
      ],
      "execution_count": null,
      "outputs": []
    }
  ]
}